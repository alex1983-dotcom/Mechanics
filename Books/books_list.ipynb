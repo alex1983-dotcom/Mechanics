{
 "cells": [
  {
   "cell_type": "markdown",
   "id": "63c4b923-fd0a-4f0b-b18a-938dfc77cc88",
   "metadata": {},
   "source": [
    "# **Список книг**\n",
    "___  \n",
    "### **Психология**\n",
    "- Черная риторика\n",
    "- Я слышу вас насквозь\n",
    "- Гений коммункаций\n",
    "\n",
    "  \n",
    "### Технические науки  \n"
   ]
  },
  {
   "cell_type": "code",
   "execution_count": null,
   "id": "ca044219-f399-4c9b-be09-3aaa305f8f5e",
   "metadata": {},
   "outputs": [],
   "source": []
  }
 ],
 "metadata": {
  "kernelspec": {
   "display_name": "\"Python/Mu (mu_venv-38-20240909-005845)\"",
   "language": "python",
   "name": "mu_venv-38-20240909-005845"
  },
  "language_info": {
   "codemirror_mode": {
    "name": "ipython",
    "version": 3
   },
   "file_extension": ".py",
   "mimetype": "text/x-python",
   "name": "python",
   "nbconvert_exporter": "python",
   "pygments_lexer": "ipython3",
   "version": "3.8.12"
  }
 },
 "nbformat": 4,
 "nbformat_minor": 5
}
