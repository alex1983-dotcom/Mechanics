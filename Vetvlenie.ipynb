{
 "cells": [
  {
   "cell_type": "markdown",
   "id": "0b25370d-b9f9-4405-a662-91438ae6d094",
   "metadata": {},
   "source": [
    "### *Условный оператор `if`*"
   ]
  },
  {
   "cell_type": "code",
   "execution_count": 13,
   "id": "24bc92f1-b916-458f-bf58-ecbc19184eab",
   "metadata": {},
   "outputs": [
    {
     "name": "stdin",
     "output_type": "stream",
     "text": [
      "Введите число:  15\n"
     ]
    },
    {
     "name": "stdout",
     "output_type": "stream",
     "text": [
      "Число больше 10\n"
     ]
    }
   ],
   "source": [
    "a = int(input(\"Введите число: \"))\n",
    "if a > 10:\n",
    "    print(\"Число больше 10\")\n",
    "    "
   ]
  },
  {
   "cell_type": "markdown",
   "id": "9bcb7df2-14c3-445d-b174-3e3d0dc5ba7f",
   "metadata": {},
   "source": [
    "Часть программы по оператором `if` выполнится  только тогда, когда переменная будет  \n",
    "больше 10. Чтобы Питон, что строка программы  \n",
    "`print(\"Число больше 10\")`  \n",
    "относится к оператору `if`, ее нужно отделить отступом - четырьмя пробелами."
   ]
  },
  {
   "cell_type": "code",
   "execution_count": 12,
   "id": "fe8ba265-a88b-4916-a9df-10141cc9075f",
   "metadata": {},
   "outputs": [
    {
     "name": "stdin",
     "output_type": "stream",
     "text": [
      "Введите число:  15\n"
     ]
    },
    {
     "name": "stdout",
     "output_type": "stream",
     "text": [
      "Число больше 10.\n",
      "Ура!\n"
     ]
    }
   ],
   "source": [
    "a = int(input(\"Введите число: \"))\n",
    "if a > 10:\n",
    "    print(\"Число больше 10.\")\n",
    "print(\"Ура!\")"
   ]
  },
  {
   "cell_type": "markdown",
   "id": "4d79ba9e-0c93-4326-aca7-a785c1dea9ca",
   "metadata": {},
   "source": [
    "### *Оператор `else`*"
   ]
  },
  {
   "cell_type": "markdown",
   "id": "d0088467-58cf-4372-8fb3-d1a948b60fdc",
   "metadata": {},
   "source": [
    "`else` может использоватся только в связке с оператором `if`"
   ]
  },
  {
   "cell_type": "markdown",
   "id": "842d90cf-aab8-4b84-9bec-af199b465622",
   "metadata": {},
   "source": [
    "Часть программы под оператором `else` будет использоватся только тогда, когда нe  работает `if`. "
   ]
  },
  {
   "cell_type": "code",
   "execution_count": 17,
   "id": "39f8906a-286b-444b-b335-71a762fd5207",
   "metadata": {},
   "outputs": [
    {
     "name": "stdin",
     "output_type": "stream",
     "text": [
      "Введите число:  5\n"
     ]
    },
    {
     "name": "stdout",
     "output_type": "stream",
     "text": [
      "Меньше либо равно десяти\n"
     ]
    }
   ],
   "source": [
    "a = int(input(\"Введите число: \"))\n",
    "if a > 10:\n",
    "    print(\"Больше десяти\")\n",
    "else:\n",
    "    print(\"Меньше либо равно десяти\")"
   ]
  },
  {
   "cell_type": "markdown",
   "id": "10dd8459-58e2-447d-bb0d-eb237a11ab28",
   "metadata": {},
   "source": [
    "### *Оператор `elif`*"
   ]
  },
  {
   "cell_type": "markdown",
   "id": "3d2aa1e9-426a-41cb-9ea8-bcc5f4b4b8cf",
   "metadata": {},
   "source": [
    "Pаботает почти как `else`, но длдя срабатывания ему надо передать дополнительные условия."
   ]
  },
  {
   "cell_type": "code",
   "execution_count": 19,
   "id": "3e0e502e-1a31-49fd-9d79-0f9c379c31b0",
   "metadata": {},
   "outputs": [
    {
     "name": "stdin",
     "output_type": "stream",
     "text": [
      "Введите число:  10\n"
     ]
    },
    {
     "name": "stdout",
     "output_type": "stream",
     "text": [
      "Это десять\n"
     ]
    }
   ],
   "source": [
    "a = int(input(\"Введите число: \"))\n",
    "if a > 10:\n",
    "    print(\"Больше 10\")\n",
    "elif a == 10:\n",
    "    print(\"Это десять\")\n",
    "else:\n",
    "    print(\"Меньше 10\")"
   ]
  },
  {
   "cell_type": "markdown",
   "id": "b6bcb837-fbee-4e31-8e8e-335cf1e4afc1",
   "metadata": {},
   "source": [
    "### *Сложные логические выражение*"
   ]
  },
  {
   "cell_type": "markdown",
   "id": "c3033100-c957-4135-b64e-7307aee58f79",
   "metadata": {},
   "source": [
    "Переменной можно писвоить результат сравнения  \n"
   ]
  },
  {
   "cell_type": "code",
   "execution_count": 21,
   "id": "09213287-d84f-40e1-bad9-806d4ec8bc1c",
   "metadata": {},
   "outputs": [],
   "source": [
    "test = 10 > 5"
   ]
  },
  {
   "cell_type": "markdown",
   "id": "3d917ad2-fc86-4790-9d3b-55c8ec26d19b",
   "metadata": {},
   "source": [
    "В этом случае переменная test будет логического (булевого) типа. Такие переменные  \n",
    "могут иметь два значения - `True`(правда) и `False`(ложь).  \n",
    "\n",
    "Выражение `a > 10` - простое логическое выражение, так как выполняеься одна логическая операция. Но на практике может понадобится получить ответ `Правда` или `Ложь` в зависимости от результата двух или более простых выражений.  \n",
    "\n",
    "Например, \"переменная `b` больше 30 или менешьше 10\" или \"переменная `a`, больше 12 и меньше 20\". В таких случаях используют операторы, объединяющие два или больше простыз логических вражений - логическое `И and` и логическое `ИЛИ or`."
   ]
  },
  {
   "cell_type": "markdown",
   "id": "b6caff62-cd0e-4e9f-ba65-84f3cb37b8a3",
   "metadata": {},
   "source": [
    "### *Логическое `И`*"
   ]
  },
  {
   "cell_type": "markdown",
   "id": "962f10ca-8f30-4ebd-a58e-d241fd9b77eb",
   "metadata": {},
   "source": [
    "Оператор `and` возвращает `True` (правду) только тогда, когла оба операнда равны `True`."
   ]
  },
  {
   "cell_type": "code",
   "execution_count": 22,
   "id": "3253fba5-0a83-4c99-b18b-f6d3a6be33b2",
   "metadata": {},
   "outputs": [
    {
     "name": "stdout",
     "output_type": "stream",
     "text": [
      "True\n"
     ]
    }
   ],
   "source": [
    "a = 10\n",
    "print(a > 1 and a < 20)"
   ]
  },
  {
   "cell_type": "code",
   "execution_count": 23,
   "id": "b1536bdd-aebf-45cf-ba1c-318209da37a4",
   "metadata": {},
   "outputs": [
    {
     "name": "stdout",
     "output_type": "stream",
     "text": [
      "False\n"
     ]
    }
   ],
   "source": [
    "a = 10\n",
    "print(a > 1 and a < 10)"
   ]
  },
  {
   "cell_type": "markdown",
   "id": "81afed89-97cd-44e4-b140-996beeb03f67",
   "metadata": {},
   "source": [
    "В примере кода ниже, использование переменной `b` не вызовет ошибки, потому что до проверки правого операнда дело даже не дойдет."
   ]
  },
  {
   "cell_type": "code",
   "execution_count": 24,
   "id": "4ff89d48-a917-45e0-af97-3efcde031dea",
   "metadata": {},
   "outputs": [],
   "source": [
    "a = 1\n",
    "if a > 1 and b == 2:\n",
    "    print('Хорошо')"
   ]
  },
  {
   "cell_type": "markdown",
   "id": "2d6ed023-fbab-4d87-bcdc-6dd08e3cb467",
   "metadata": {},
   "source": [
    "### *Логичемское `ИЛИ`*"
   ]
  },
  {
   "cell_type": "markdown",
   "id": "d364e356-4c7f-43e7-8e5f-3dcdacf9ec07",
   "metadata": {},
   "source": [
    "Оператор `or` возвращает `True`(правду) тогда, когда хотя бы один из операндов равен  `True`."
   ]
  },
  {
   "cell_type": "code",
   "execution_count": 25,
   "id": "126d39e2-c369-45c4-98f0-0b97f0be0da6",
   "metadata": {},
   "outputs": [
    {
     "name": "stdout",
     "output_type": "stream",
     "text": [
      "True\n"
     ]
    }
   ],
   "source": [
    "b = 5\n",
    "print(b > 1 or b < 3)"
   ]
  },
  {
   "cell_type": "code",
   "execution_count": 26,
   "id": "9277c228-61b3-4c3e-a933-c8fcd9fdf35a",
   "metadata": {},
   "outputs": [
    {
     "name": "stdout",
     "output_type": "stream",
     "text": [
      "False\n"
     ]
    }
   ],
   "source": [
    "b = 5\n",
    "print(b > 10 or b < 5)"
   ]
  },
  {
   "cell_type": "markdown",
   "id": "c7498b13-e783-4516-9af6-a7554cc9a9d7",
   "metadata": {},
   "source": [
    "### *Вложенные условия*"
   ]
  },
  {
   "cell_type": "markdown",
   "id": "b76b671a-f382-490b-90a2-f0d0e501629c",
   "metadata": {},
   "source": [
    "Условные операторы могут быть вложенными и вместо `and` можно сделать вот так:  "
   ]
  },
  {
   "cell_type": "code",
   "execution_count": 7,
   "id": "e4093be1-24eb-4350-98ba-381e3788273b",
   "metadata": {},
   "outputs": [
    {
     "name": "stdin",
     "output_type": "stream",
     "text": [
      "Введите число:  5\n"
     ]
    },
    {
     "name": "stdout",
     "output_type": "stream",
     "text": [
      "Число либо меньше 10, либо больше 20\n"
     ]
    }
   ],
   "source": [
    "a = int(input(\"Введите число: \"))\n",
    "if a > 10:\n",
    "    if a < 20:\n",
    "        print(\"Это число больше 10, но меньше 20\")\n",
    "else:\n",
    "    print(\"Число либо меньше 10, либо больше 20\")\n",
    "        \n",
    "    "
   ]
  },
  {
   "cell_type": "markdown",
   "id": "77630274-85e8-48b5-ade6-03e9bbf3b05f",
   "metadata": {},
   "source": [
    "Второе условие в примере выше, будет проверятся только в том случае, если сработает первое."
   ]
  },
  {
   "cell_type": "code",
   "execution_count": null,
   "id": "c7c5b0a7-3ee1-4bdf-8edc-b8b9a9e2fd55",
   "metadata": {},
   "outputs": [],
   "source": []
  }
 ],
 "metadata": {
  "kernelspec": {
   "display_name": "Python 3 (ipykernel)",
   "language": "python",
   "name": "python3"
  },
  "language_info": {
   "codemirror_mode": {
    "name": "ipython",
    "version": 3
   },
   "file_extension": ".py",
   "mimetype": "text/x-python",
   "name": "python",
   "nbconvert_exporter": "python",
   "pygments_lexer": "ipython3",
   "version": "3.12.8"
  }
 },
 "nbformat": 4,
 "nbformat_minor": 5
}
