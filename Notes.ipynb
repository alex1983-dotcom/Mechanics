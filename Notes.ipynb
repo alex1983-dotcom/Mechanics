{
 "cells": [
  {
   "cell_type": "markdown",
   "id": "d0b67101-ade0-4ab1-977f-46113a572208",
   "metadata": {},
   "source": [
    "### Настройка middleware"
   ]
  },
  {
   "cell_type": "markdown",
   "id": "8a8d2d1f-fafe-4124-98e1-052c429c165c",
   "metadata": {},
   "source": [
    "# 17-06-2025"
   ]
  },
  {
   "cell_type": "markdown",
   "id": "92d80ff7-3fd3-4689-92a5-e21ae36160d8",
   "metadata": {},
   "source": [
    "`middleware.py`\n",
    "\n",
    "```python\n",
    "class NosniffMiddleware:\n",
    "    def __init__(self, get_response):\n",
    "        self.get_response = get_response\n",
    "\n",
    "    def __call__(self, request):\n",
    "        response = self.get_response(request)\n",
    "        response['X-Content-Type-Options'] = 'nosniff'\n",
    "        return response\n",
    "\n",
    "import logging\n",
    "from datetime import datetime\n",
    "\n",
    "logger = logging.getLogger(\"analytics\")\n",
    "\n",
    "class AnalyticsMiddleware:\n",
    "    def __init__(self, get_response):\n",
    "        self.get_response = get_response\n",
    "\n",
    "    def __call__(self, request):\n",
    "        user_ip = request.META.get(\"HTTP_X_FORWARDED_FOR\") or request.META.get(\"REMOTE_ADDR\", \"Неизвестный IP\")\n",
    "        request_time = datetime.now().strftime(\"%Y-%m-%d %H:%M:%S\")\n",
    "        request_path = request.path\n",
    "\n",
    "        # Очищаем формат: без двойного времени и \"IP:\"\n",
    "        logger.info(f\"{request_time} | {user_ip} | {request_path}\")\n",
    "\n",
    "        response = self.get_response(request)\n",
    "        return response\n",
    "\n",
    "```"
   ]
  },
  {
   "cell_type": "markdown",
   "id": "3aeb90fb-0bdd-4e0e-afbe-ce00e3e5efdd",
   "metadata": {},
   "source": [
    "`Настройка settings.py`\n",
    "\n",
    "```python\n",
    "# Настройки middleware\n",
    "LOGGING = {\n",
    "    'version': 1,\n",
    "    'disable_existing_loggers': True,\n",
    "    'handlers': {\n",
    "        'analytics_file': {\n",
    "            'level': 'INFO',\n",
    "            'class': 'logging.FileHandler',\n",
    "            'filename': 'analytics.log',\n",
    "            'formatter': 'detailed',\n",
    "        },\n",
    "    },\n",
    "    'formatters': {\n",
    "        'detailed': {\n",
    "            'format': '%(message)s'\n",
    "        }\n",
    "    },\n",
    "    'loggers': {\n",
    "        'analytics': {\n",
    "            'handlers': ['analytics_file'],\n",
    "            'level': 'INFO',\n",
    "            'propagate': False,\n",
    "        },\n",
    "    },\n",
    "}\n",
    "```"
   ]
  },
  {
   "cell_type": "markdown",
   "id": "1cd10541-6f47-4ef5-bd3e-50875e6223e9",
   "metadata": {},
   "source": [
    "# 18-06-2025"
   ]
  },
  {
   "cell_type": "code",
   "execution_count": null,
   "id": "45209016-9808-4a36-9ea7-e1b5ce844f53",
   "metadata": {},
   "outputs": [],
   "source": []
  }
 ],
 "metadata": {
  "kernelspec": {
   "display_name": "Python 3 (ipykernel)",
   "language": "python",
   "name": "python3"
  },
  "language_info": {
   "codemirror_mode": {
    "name": "ipython",
    "version": 3
   },
   "file_extension": ".py",
   "mimetype": "text/x-python",
   "name": "python",
   "nbconvert_exporter": "python",
   "pygments_lexer": "ipython3",
   "version": "3.12.4"
  }
 },
 "nbformat": 4,
 "nbformat_minor": 5
}
