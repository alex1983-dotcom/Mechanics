{
 "cells": [
  {
   "cell_type": "markdown",
   "id": "398d5c31",
   "metadata": {},
   "source": [
    "# Стали и их свойства"
   ]
  },
  {
   "cell_type": "markdown",
   "id": "41e3f2f1",
   "metadata": {},
   "source": [
    "## Типы сталей"
   ]
  },
  {
   "cell_type": "markdown",
   "id": "669760d5",
   "metadata": {},
   "source": [
    "- Низкоуглеродистые\n",
    "- Лигированые\n",
    "- Высоколегировнные\n",
    "- Чугуны"
   ]
  },
  {
   "cell_type": "code",
   "execution_count": null,
   "id": "797d8d41-b049-4e4d-b3c0-d360263700c7",
   "metadata": {},
   "outputs": [],
   "source": []
  }
 ],
 "metadata": {
  "kernelspec": {
   "display_name": "\"Python/Mu (mu_venv-38-20240909-005845)\"",
   "language": "python",
   "name": "mu_venv-38-20240909-005845"
  },
  "language_info": {
   "codemirror_mode": {
    "name": "ipython",
    "version": 3
   },
   "file_extension": ".py",
   "mimetype": "text/x-python",
   "name": "python",
   "nbconvert_exporter": "python",
   "pygments_lexer": "ipython3",
   "version": "3.8.12"
  }
 },
 "nbformat": 4,
 "nbformat_minor": 5
}
